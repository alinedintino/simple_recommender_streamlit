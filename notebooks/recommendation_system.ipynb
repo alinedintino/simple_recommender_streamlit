{
 "cells": [
  {
   "cell_type": "code",
   "execution_count": null,
   "id": "21b4d35e-be58-4b0b-b7ba-18c304b643d2",
   "metadata": {},
   "outputs": [],
   "source": [
    "from collections import defaultdict, Counter\n",
    "from functools import partial\n",
    "import json\n",
    "import matplotlib\n",
    "import matplotlib.pyplot as plt\n",
    "import numpy as np\n",
    "import os\n",
    "import pickle\n",
    "import pandas as pd\n",
    "from pandas_profiling import ProfileReport\n",
    "from pywaffle import Waffle\n",
    "import squarify\n",
    "import scipy\n",
    "from sklearn.feature_extraction.text import TfidfVectorizer, CountVectorizer\n",
    "from sklearn.metrics.pairwise import linear_kernel, cosine_similarity\n",
    "from wordcloud import WordCloud\n",
    "\n",
    "pd.set_option(\"display.max_columns\", None)\n",
    "%matplotlib inline"
   ]
  },
  {
   "cell_type": "code",
   "execution_count": null,
   "id": "c46fe4e4-4859-413f-83a7-6f9abfbfebfd",
   "metadata": {},
   "outputs": [],
   "source": [
    "#load data\n",
    "PATH = \"../data\"\n",
    "print(os.listdir(PATH))"
   ]
  },
  {
   "cell_type": "code",
   "execution_count": null,
   "id": "5d30e0d5-c1ec-4885-8a4a-40f7feac829b",
   "metadata": {},
   "outputs": [],
   "source": [
    "credit = pd.read_csv(os.path.join(PATH, 'tmdb_5000_credits.csv'))\n",
    "movie = pd.read_csv(os.path.join(PATH, 'tmdb_5000_movies.csv'))"
   ]
  },
  {
   "cell_type": "code",
   "execution_count": null,
   "id": "4a301219-9112-487f-9503-b374dbbe27fb",
   "metadata": {},
   "outputs": [],
   "source": [
    "credit.head(1)"
   ]
  },
  {
   "cell_type": "code",
   "execution_count": null,
   "id": "25689478-08ce-424d-89f8-1996b60dda74",
   "metadata": {},
   "outputs": [],
   "source": [
    "movie.head(1)"
   ]
  },
  {
   "cell_type": "code",
   "execution_count": null,
   "id": "23f11700-c72c-4e30-b459-2a4fa53905d4",
   "metadata": {},
   "outputs": [],
   "source": [
    "#merge \n",
    "credit.columns = ['id','tittle','cast','crew']\n",
    "movie_df = movie.merge(credit, on='id')\n",
    "del movie\n",
    "del credit"
   ]
  },
  {
   "cell_type": "code",
   "execution_count": null,
   "id": "4b29ccd0-1d7d-4550-9fe7-4db51c8a373e",
   "metadata": {},
   "outputs": [],
   "source": [
    "movie_df.head(1)"
   ]
  },
  {
   "cell_type": "markdown",
   "id": "e9a02ded-867c-4558-9e09-d65e619229c9",
   "metadata": {
    "jp-MarkdownHeadingCollapsed": true,
    "tags": []
   },
   "source": [
    "# **Data prep <a class=\"anchor\" id=\"Data_preparation\"></a>**"
   ]
  },
  {
   "cell_type": "code",
   "execution_count": null,
   "id": "daf9f838-af94-40f0-a7ea-a147371abace",
   "metadata": {},
   "outputs": [],
   "source": [
    "#convert date \n",
    "movie_df[\"release_date\"] = pd.to_datetime(movie_df['release_date'])\n",
    "movie_df['release_year'] = movie_df['release_date'].dt.year\n",
    "movie_df['release_month'] = movie_df['release_date'].dt.month_name()\n",
    "del movie_df[\"release_date\"]"
   ]
  },
  {
   "cell_type": "code",
   "execution_count": null,
   "id": "61a4a03b-a1c3-4481-a2a7-24af1abaa80c",
   "metadata": {},
   "outputs": [],
   "source": [
    "#json string into json format\n",
    "json_columns = {'cast', 'crew', 'genres', 'keywords', 'production_countries', \n",
    "                'production_companies', 'spoken_languages'}\n",
    "\n",
    "for c in json_columns:\n",
    "    movie_df[c] = movie_df[c].apply(json.loads)\n",
    "    if c != \"crew\": \n",
    "        movie_df[c] = movie_df[c].apply(lambda row: [x[\"name\"] for x in row])"
   ]
  },
  {
   "cell_type": "code",
   "execution_count": null,
   "id": "3df005db-aead-43a3-a6b5-d06dabc7b237",
   "metadata": {},
   "outputs": [],
   "source": [
    "#add director, writer and producer \n",
    "def get_job(job, row):\n",
    "    person_name = [x['name'] for x in row if x['job']==job] \n",
    "    return person_name[0] if len(person_name) else np.nan\n",
    "\n",
    "movie_df[\"director\"] = movie_df[\"crew\"].apply(partial(get_job, \"Director\"))\n",
    "movie_df[\"writer\"]   = movie_df[\"crew\"].apply(partial(get_job, \"Writer\"))\n",
    "movie_df[\"producer\"] = movie_df[\"crew\"].apply(partial(get_job, \"Producer\"))\n",
    "del movie_df[\"crew\"]"
   ]
  },
  {
   "cell_type": "code",
   "execution_count": null,
   "id": "f4a00eca-0ef4-41ca-9ccb-3fa1e58ff859",
   "metadata": {},
   "outputs": [],
   "source": [
    "#add profit\n",
    "movie_df[\"profit\"] = movie_df[\"revenue\"] - movie_df[\"budget\"]"
   ]
  },
  {
   "cell_type": "code",
   "execution_count": null,
   "id": "e92a57dc-1bd0-4caf-a5c8-bc1be3e49b3b",
   "metadata": {},
   "outputs": [],
   "source": [
    "#sub nas by most frequent\n",
    "for col in [\"runtime\", \"release_year\", \"release_month\"]:\n",
    "    movie_df[col] = movie_df[col].fillna(movie_df[col].mode().iloc[0])"
   ]
  },
  {
   "cell_type": "code",
   "execution_count": null,
   "id": "e3e9328b-eea7-4c98-8a5a-e76bbb58eca1",
   "metadata": {},
   "outputs": [],
   "source": [
    "movie_df.head(2)"
   ]
  },
  {
   "cell_type": "markdown",
   "id": "9717f729-bbfe-4ec9-a476-27f063641f9c",
   "metadata": {
    "tags": []
   },
   "source": [
    "# **Recommender System** <a class=\"anchor\" id=\"Recommender_systems\"></a>"
   ]
  },
  {
   "cell_type": "code",
   "execution_count": null,
   "id": "e3dcb001-9eb0-46a4-a915-381845b47204",
   "metadata": {},
   "outputs": [],
   "source": [
    "#weighted average\n",
    "C = movie_df['vote_average'].mean()\n",
    "m = movie_df['vote_count'].quantile(0.9)\n",
    "C, m"
   ]
  },
  {
   "cell_type": "code",
   "execution_count": null,
   "id": "d0589d7c-17e3-4875-9ad1-926c6a0bd1c1",
   "metadata": {},
   "outputs": [],
   "source": [
    "q_movies = movie_df.copy().loc[movie_df['vote_count'] >= m]\n",
    "q_movies.shape"
   ]
  },
  {
   "cell_type": "code",
   "execution_count": null,
   "id": "1ade15d8-79a9-4c57-8b51-84ffc501684c",
   "metadata": {},
   "outputs": [],
   "source": [
    "def weighted_rating(x, m=m, C=C):\n",
    "    v = x['vote_count']\n",
    "    R = x['vote_average']\n",
    "    return (v/(v+m) * R) + (m/(m+v) * C)"
   ]
  },
  {
   "cell_type": "code",
   "execution_count": null,
   "id": "c158dc18-75cf-4054-b743-6f0938524b11",
   "metadata": {},
   "outputs": [],
   "source": [
    "q_movies['score'] = q_movies.apply(weighted_rating, axis=1)\n",
    "q_movies = q_movies.sort_values('score', ascending=False)\n",
    "q_movies[['title', 'vote_count', 'vote_average', 'score']].head(5)"
   ]
  },
  {
   "cell_type": "code",
   "execution_count": null,
   "id": "3218aa5f-df25-4385-8ffb-80eda5801e60",
   "metadata": {},
   "outputs": [],
   "source": [
    "with open('../data/movie_scores.pickle', 'wb') as handle:\n",
    "    pickle.dump(q_movies[['id', 'title','score']], handle, protocol=pickle.HIGHEST_PROTOCOL)"
   ]
  },
  {
   "cell_type": "code",
   "execution_count": null,
   "id": "cecf2db9-2ce6-4032-9ed7-d49bc3218538",
   "metadata": {},
   "outputs": [],
   "source": [
    "#content based\n",
    "movie_df['overview'].head(3)"
   ]
  },
  {
   "cell_type": "code",
   "execution_count": null,
   "id": "ec0c0260-4a59-4012-ada8-b51a97aae6df",
   "metadata": {},
   "outputs": [],
   "source": [
    "tfidf = TfidfVectorizer(stop_words='english')\n",
    "\n",
    "movie_df['overview'] = movie_df['overview'].fillna('')\n",
    "\n",
    "tfidf_matrix = tfidf.fit_transform(movie_df['overview'])\n",
    "tfidf_matrix.shape"
   ]
  },
  {
   "cell_type": "code",
   "execution_count": null,
   "id": "c81b1c03-aeb6-4411-a26f-19d9e5449302",
   "metadata": {},
   "outputs": [],
   "source": [
    "cosine_sim = linear_kernel(tfidf_matrix, tfidf_matrix)\n",
    "indices = pd.Series(movie_df.index, index=movie_df['title']).drop_duplicates()"
   ]
  },
  {
   "cell_type": "code",
   "execution_count": null,
   "id": "53e546db-7634-4de4-9c05-4dba760dd77b",
   "metadata": {},
   "outputs": [],
   "source": [
    "def get_recommendations(title, cosine_sim=cosine_sim):\n",
    "    idx = indices[title]\n",
    "    sim_scores = list(enumerate(cosine_sim[idx]))\n",
    "    sim_scores = sorted(sim_scores, key=lambda x: x[1], reverse=True)\n",
    "    sim_scores = sim_scores[1:6]\n",
    "    movie_indices = [i[0] for i in sim_scores]\n",
    "    movie_similarity = [i[1] for i in sim_scores]\n",
    "\n",
    "    return pd.DataFrame(zip(movie_df['title'].iloc[movie_indices], movie_similarity), columns=[\"title\", \"similarity\"])"
   ]
  },
  {
   "cell_type": "code",
   "execution_count": null,
   "id": "949ce04a-25f4-401f-9ccc-e7221e193987",
   "metadata": {},
   "outputs": [],
   "source": [
    "get_recommendations('The Godfather: Part II')"
   ]
  },
  {
   "cell_type": "code",
   "execution_count": null,
   "id": "a7816879-6900-4b0f-a046-3be2041b941d",
   "metadata": {},
   "outputs": [],
   "source": [
    "get_recommendations('The Avengers')"
   ]
  },
  {
   "cell_type": "code",
   "execution_count": null,
   "id": "23ecab48-9ad7-4e8c-8ae0-394a13fbce1c",
   "metadata": {},
   "outputs": [],
   "source": [
    "get_recommendations('Pulp Fiction')"
   ]
  },
  {
   "cell_type": "code",
   "execution_count": null,
   "id": "d51abf55-d184-4b3a-8cb6-d078f69844d1",
   "metadata": {},
   "outputs": [],
   "source": [
    "#save df\n",
    "scipy.sparse.save_npz('../data/tfidf_matrix.npz', tfidf_matrix)\n",
    "\n",
    "with open('../data/movie_df.pickle', 'wb') as handle:\n",
    "    pickle.dump(movie_df[[\"id\",\"title\"]], handle, protocol=pickle.HIGHEST_PROTOCOL)"
   ]
  }
 ],
 "metadata": {
  "kernelspec": {
   "display_name": "Python 3 (ipykernel)",
   "language": "python",
   "name": "python3"
  },
  "language_info": {
   "codemirror_mode": {
    "name": "ipython",
    "version": 3
   },
   "file_extension": ".py",
   "mimetype": "text/x-python",
   "name": "python",
   "nbconvert_exporter": "python",
   "pygments_lexer": "ipython3",
   "version": "3.8.0"
  },
  "toc-autonumbering": false,
  "toc-showcode": false,
  "toc-showmarkdowntxt": true
 },
 "nbformat": 4,
 "nbformat_minor": 5
}
